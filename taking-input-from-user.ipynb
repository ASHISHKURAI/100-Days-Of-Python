{
 "cells": [
  {
   "cell_type": "code",
   "execution_count": null,
   "id": "c3198426-acb1-4183-9d23-c856074a9975",
   "metadata": {},
   "outputs": [],
   "source": []
  }
 ],
 "metadata": {
  "kernelspec": {
   "display_name": "",
   "name": ""
  },
  "language_info": {
   "name": ""
  }
 },
 "nbformat": 4,
 "nbformat_minor": 5
}
