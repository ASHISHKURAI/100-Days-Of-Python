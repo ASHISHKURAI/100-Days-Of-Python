{
 "cells": [
  {
   "cell_type": "code",
   "execution_count": 2,
   "id": "239ccd06-a65a-4ec9-910a-1184d05eccb9",
   "metadata": {},
   "outputs": [
    {
     "name": "stdout",
     "output_type": "stream",
     "text": [
      "ashish\n"
     ]
    }
   ],
   "source": [
    "print('ashish')"
   ]
  },
  {
   "cell_type": "code",
   "execution_count": 3,
   "id": "ee1286d9-f740-419e-9bbf-95a3582ca78d",
   "metadata": {},
   "outputs": [],
   "source": [
    "name='ashish'"
   ]
  },
  {
   "cell_type": "code",
   "execution_count": 4,
   "id": "b094064b-a9f2-429f-be17-1dd736f0fe3c",
   "metadata": {},
   "outputs": [
    {
     "name": "stdout",
     "output_type": "stream",
     "text": [
      "ashish\n"
     ]
    }
   ],
   "source": [
    "print(name)"
   ]
  },
  {
   "cell_type": "code",
   "execution_count": 5,
   "id": "b0aefa48-08e1-4a8b-bebf-f0bddc332393",
   "metadata": {},
   "outputs": [
    {
     "name": "stdout",
     "output_type": "stream",
     "text": [
      "hello world\n"
     ]
    }
   ],
   "source": [
    "name='hello world'\n",
    "print (name)"
   ]
  },
  {
   "cell_type": "code",
   "execution_count": 6,
   "id": "4d86d269-8b78-4a42-a6df-29d5b5351824",
   "metadata": {},
   "outputs": [],
   "source": [
    "# no variable declaration"
   ]
  },
  {
   "cell_type": "code",
   "execution_count": 7,
   "id": "4fe4b838-a112-4a38-8168-882a995141ea",
   "metadata": {},
   "outputs": [],
   "source": [
    "# Dyanmic typing --> php\n",
    "# static typing "
   ]
  },
  {
   "cell_type": "code",
   "execution_count": 8,
   "id": "910113aa-fc6f-48fe-be21-95a752648ab8",
   "metadata": {},
   "outputs": [
    {
     "name": "stdout",
     "output_type": "stream",
     "text": [
      "14\n"
     ]
    }
   ],
   "source": [
    "name =14\n",
    "print(name)"
   ]
  },
  {
   "cell_type": "code",
   "execution_count": 10,
   "id": "9ad1b293-98ac-4b00-be5f-5392beb4e162",
   "metadata": {},
   "outputs": [
    {
     "name": "stdout",
     "output_type": "stream",
     "text": [
      "True\n"
     ]
    }
   ],
   "source": [
    "name=True\n",
    "print(name)"
   ]
  },
  {
   "cell_type": "code",
   "execution_count": 11,
   "id": "ddb1c4a3-7180-4033-b871-08be95c7ed40",
   "metadata": {},
   "outputs": [],
   "source": [
    "# this feature called dynamic binding "
   ]
  },
  {
   "cell_type": "code",
   "execution_count": 12,
   "id": "7af56b27-d69d-41f4-9163-8395d6dba211",
   "metadata": {},
   "outputs": [
    {
     "name": "stdout",
     "output_type": "stream",
     "text": [
      "5\n",
      "6\n",
      "7\n"
     ]
    }
   ],
   "source": [
    "#special syntax\n",
    "a=5;b=6;c=7\n",
    "print(a)\n",
    "print(b)\n",
    "print(c)"
   ]
  },
  {
   "cell_type": "code",
   "execution_count": 13,
   "id": "f5430ca1-43a3-4f31-813c-b8d35c0a8c24",
   "metadata": {},
   "outputs": [
    {
     "name": "stdout",
     "output_type": "stream",
     "text": [
      "4\n",
      "5\n",
      "6\n"
     ]
    }
   ],
   "source": [
    "a,b,c=4,5,6\n",
    "print(a)\n",
    "print(b)\n",
    "print(c)"
   ]
  },
  {
   "cell_type": "code",
   "execution_count": 14,
   "id": "5d9c2359-37dc-441f-9fdd-70259e42cf87",
   "metadata": {},
   "outputs": [
    {
     "name": "stdout",
     "output_type": "stream",
     "text": [
      "6\n",
      "6\n",
      "6\n"
     ]
    }
   ],
   "source": [
    "a=b=c=6\n",
    "print(a)\n",
    "print(b)\n",
    "print(c)"
   ]
  },
  {
   "cell_type": "code",
   "execution_count": null,
   "id": "b1c49345-af41-4573-88ed-233614cd9793",
   "metadata": {},
   "outputs": [],
   "source": []
  }
 ],
 "metadata": {
  "kernelspec": {
   "display_name": "Python 3 (ipykernel)",
   "language": "python",
   "name": "python3"
  },
  "language_info": {
   "codemirror_mode": {
    "name": "ipython",
    "version": 3
   },
   "file_extension": ".py",
   "mimetype": "text/x-python",
   "name": "python",
   "nbconvert_exporter": "python",
   "pygments_lexer": "ipython3",
   "version": "3.13.3"
  }
 },
 "nbformat": 4,
 "nbformat_minor": 5
}
