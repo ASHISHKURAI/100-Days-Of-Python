{
 "cells": [
  {
   "cell_type": "code",
   "execution_count": 1,
   "id": "fc44ee7e-71ed-4050-bbe5-df6afd525c3c",
   "metadata": {},
   "outputs": [
    {
     "name": "stdout",
     "output_type": "stream",
     "text": [
      "ashish\n"
     ]
    }
   ],
   "source": [
    "name=\"ashish\"\n",
    "print(name)"
   ]
  },
  {
   "cell_type": "code",
   "execution_count": 2,
   "id": "c9044592-ea72-4479-9223-cf140f5b93d5",
   "metadata": {},
   "outputs": [
    {
     "name": "stdout",
     "output_type": "stream",
     "text": [
      "ashish\n"
     ]
    }
   ],
   "source": [
    "_=\"ashish\"\n",
    "print(_)"
   ]
  },
  {
   "cell_type": "code",
   "execution_count": 3,
   "id": "2d2e373a-2b16-4c6d-bcd4-2429f71a4f9e",
   "metadata": {},
   "outputs": [],
   "source": [
    "# and number will not be used in identifer "
   ]
  },
  {
   "cell_type": "code",
   "execution_count": 4,
   "id": "db6eb2d0-4ff4-4d15-8a90-b4c0d2ae223c",
   "metadata": {},
   "outputs": [
    {
     "name": "stdout",
     "output_type": "stream",
     "text": [
      "ashish\n"
     ]
    }
   ],
   "source": [
    "name1=\"ashish\"\n",
    "print(name)"
   ]
  },
  {
   "cell_type": "code",
   "execution_count": 6,
   "id": "da68dd58-e604-497a-af31-1a3e96dd1628",
   "metadata": {},
   "outputs": [],
   "source": [
    "#1name=\"ashish\"\n",
    "#print(1name)\n",
    "# this will show error"
   ]
  },
  {
   "cell_type": "code",
   "execution_count": 7,
   "id": "2dfb16e6-faf6-4644-9f29-33e28058fc8d",
   "metadata": {},
   "outputs": [
    {
     "name": "stdout",
     "output_type": "stream",
     "text": [
      "ashish\n"
     ]
    }
   ],
   "source": [
    "first_name=\"ashish\"\n",
    "print(first_name)"
   ]
  },
  {
   "cell_type": "code",
   "execution_count": 9,
   "id": "705e18f8-1618-40fc-9300-ab50a0096b93",
   "metadata": {},
   "outputs": [],
   "source": [
    "#first-name=\"ashish\"\n",
    "#print(first-name)\n",
    "# this will show error "
   ]
  },
  {
   "cell_type": "code",
   "execution_count": null,
   "id": "bf2b78cd-e22d-455f-9a78-a147fe390b73",
   "metadata": {},
   "outputs": [],
   "source": [
    "#False=\"ashish\"\n",
    "#print(False)\n",
    "# this will through error "
   ]
  }
 ],
 "metadata": {
  "kernelspec": {
   "display_name": "Python 3 (ipykernel)",
   "language": "python",
   "name": "python3"
  },
  "language_info": {
   "codemirror_mode": {
    "name": "ipython",
    "version": 3
   },
   "file_extension": ".py",
   "mimetype": "text/x-python",
   "name": "python",
   "nbconvert_exporter": "python",
   "pygments_lexer": "ipython3",
   "version": "3.13.3"
  }
 },
 "nbformat": 4,
 "nbformat_minor": 5
}
