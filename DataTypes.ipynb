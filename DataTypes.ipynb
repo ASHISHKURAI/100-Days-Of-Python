{
 "cells": [
  {
   "cell_type": "code",
   "execution_count": 2,
   "id": "9b3d8df0-af15-4423-8cad-e1e25a159341",
   "metadata": {},
   "outputs": [
    {
     "name": "stdout",
     "output_type": "stream",
     "text": [
      "6\n",
      "1e+308\n",
      "inf\n"
     ]
    }
   ],
   "source": [
    "# integer\n",
    "print(6)\n",
    "print(1e308)\n",
    "print(1e309)"
   ]
  },
  {
   "cell_type": "code",
   "execution_count": 3,
   "id": "1932d3bb-8637-49e0-8f06-34e271c52b25",
   "metadata": {},
   "outputs": [
    {
     "name": "stdout",
     "output_type": "stream",
     "text": [
      "4.5\n",
      "1.7e+308\n"
     ]
    }
   ],
   "source": [
    "# float\n",
    "print(4.5)\n",
    "print(1.7e308)"
   ]
  },
  {
   "cell_type": "code",
   "execution_count": 4,
   "id": "11bf8e2f-becc-4c3f-b0cd-5a03f7fd50b6",
   "metadata": {},
   "outputs": [
    {
     "name": "stdout",
     "output_type": "stream",
     "text": [
      "True\n",
      "False\n"
     ]
    }
   ],
   "source": [
    "# boolean\n",
    "print(True)\n",
    "print(False)\n"
   ]
  },
  {
   "cell_type": "code",
   "execution_count": 5,
   "id": "f2ecbdae-7629-4041-bb6e-beca52f2d0e9",
   "metadata": {},
   "outputs": [
    {
     "name": "stdout",
     "output_type": "stream",
     "text": [
      "(4+5j)\n"
     ]
    }
   ],
   "source": [
    "# complex\n",
    "print(4+5j)"
   ]
  },
  {
   "cell_type": "code",
   "execution_count": 6,
   "id": "a2b41572-7838-449e-93a4-bb0d7b55f306",
   "metadata": {},
   "outputs": [
    {
     "name": "stdout",
     "output_type": "stream",
     "text": [
      "varanasi\n",
      "varanasi\n"
     ]
    }
   ],
   "source": [
    "# string\n",
    "print('varanasi')\n",
    "print(\"varanasi\")"
   ]
  },
  {
   "cell_type": "code",
   "execution_count": 8,
   "id": "51f34013-4a4f-49bb-aaca-7c7d54f756e4",
   "metadata": {},
   "outputs": [
    {
     "name": "stdout",
     "output_type": "stream",
     "text": [
      "[1, 2, 3, 4, 5]\n"
     ]
    }
   ],
   "source": [
    "# list\n",
    "print([1,2,3,4,5])\n"
   ]
  },
  {
   "cell_type": "code",
   "execution_count": 9,
   "id": "3f158bfd-acd7-4d5f-ac28-9017300e9f8c",
   "metadata": {},
   "outputs": [
    {
     "name": "stdout",
     "output_type": "stream",
     "text": [
      "(1, 2, 3, 4, 5)\n"
     ]
    }
   ],
   "source": [
    "# tuple\n",
    "print((1,2,3,4,5))"
   ]
  },
  {
   "cell_type": "code",
   "execution_count": 10,
   "id": "2a714534-31ff-440c-9613-3c0914a94b2b",
   "metadata": {},
   "outputs": [
    {
     "name": "stdout",
     "output_type": "stream",
     "text": [
      "{1, 2, 3, 4}\n"
     ]
    }
   ],
   "source": [
    "#sets\n",
    "print({1,2,3,4})"
   ]
  },
  {
   "cell_type": "code",
   "execution_count": 11,
   "id": "6d8a23b8-6b95-4e39-9a1d-bf82576914d3",
   "metadata": {},
   "outputs": [
    {
     "name": "stdout",
     "output_type": "stream",
     "text": [
      "{'Name': 'Nitist', 'Age': 30, 'gender': 'Male'}\n"
     ]
    }
   ],
   "source": [
    "# dict\n",
    "print({\"Name\":\"Nitist\",\"Age\":30,\"gender\":\"Male\"})"
   ]
  },
  {
   "cell_type": "code",
   "execution_count": null,
   "id": "11c4e764-2b00-4696-b8c4-fdc33f40c219",
   "metadata": {},
   "outputs": [],
   "source": []
  }
 ],
 "metadata": {
  "kernelspec": {
   "display_name": "Python 3 (ipykernel)",
   "language": "python",
   "name": "python3"
  },
  "language_info": {
   "codemirror_mode": {
    "name": "ipython",
    "version": 3
   },
   "file_extension": ".py",
   "mimetype": "text/x-python",
   "name": "python",
   "nbconvert_exporter": "python",
   "pygments_lexer": "ipython3",
   "version": "3.13.3"
  }
 },
 "nbformat": 4,
 "nbformat_minor": 5
}
